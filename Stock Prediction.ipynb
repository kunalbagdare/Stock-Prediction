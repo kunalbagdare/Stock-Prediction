{
 "cells": [
  {
   "cell_type": "markdown",
   "metadata": {},
   "source": [
    "## Stock Prediction for high Price in a day"
   ]
  },
  {
   "cell_type": "code",
   "execution_count": 1,
   "metadata": {},
   "outputs": [],
   "source": [
    "from nsepy import get_history\n",
    "from datetime import datetime\n",
    "from sklearn.svm import SVR\n",
    "import numpy as np\n",
    "import pandas as pd\n",
    "import matplotlib.pyplot as plt"
   ]
  },
  {
   "cell_type": "markdown",
   "metadata": {},
   "source": [
    "### Defining start and end date"
   ]
  },
  {
   "cell_type": "code",
   "execution_count": 2,
   "metadata": {},
   "outputs": [],
   "source": [
    "start = datetime(2021, 6, 1)\n",
    "end = datetime(2021, 6, 22)"
   ]
  },
  {
   "cell_type": "markdown",
   "metadata": {},
   "source": [
    "### Example of MRF"
   ]
  },
  {
   "cell_type": "code",
   "execution_count": 19,
   "metadata": {},
   "outputs": [],
   "source": [
    "data = get_history(symbol='MRF',\n",
    "                   start=start,\n",
    "                   end=end)"
   ]
  },
  {
   "cell_type": "code",
   "execution_count": 18,
   "metadata": {},
   "outputs": [
    {
     "data": {
      "text/html": [
       "<div>\n",
       "<style scoped>\n",
       "    .dataframe tbody tr th:only-of-type {\n",
       "        vertical-align: middle;\n",
       "    }\n",
       "\n",
       "    .dataframe tbody tr th {\n",
       "        vertical-align: top;\n",
       "    }\n",
       "\n",
       "    .dataframe thead th {\n",
       "        text-align: right;\n",
       "    }\n",
       "</style>\n",
       "<table border=\"1\" class=\"dataframe\">\n",
       "  <thead>\n",
       "    <tr style=\"text-align: right;\">\n",
       "      <th></th>\n",
       "      <th>Symbol</th>\n",
       "      <th>Series</th>\n",
       "      <th>Prev Close</th>\n",
       "      <th>Open</th>\n",
       "      <th>High</th>\n",
       "      <th>Low</th>\n",
       "      <th>Last</th>\n",
       "      <th>Close</th>\n",
       "      <th>VWAP</th>\n",
       "      <th>Volume</th>\n",
       "      <th>Turnover</th>\n",
       "      <th>Trades</th>\n",
       "      <th>Deliverable Volume</th>\n",
       "      <th>%Deliverble</th>\n",
       "    </tr>\n",
       "    <tr>\n",
       "      <th>Date</th>\n",
       "      <th></th>\n",
       "      <th></th>\n",
       "      <th></th>\n",
       "      <th></th>\n",
       "      <th></th>\n",
       "      <th></th>\n",
       "      <th></th>\n",
       "      <th></th>\n",
       "      <th></th>\n",
       "      <th></th>\n",
       "      <th></th>\n",
       "      <th></th>\n",
       "      <th></th>\n",
       "      <th></th>\n",
       "    </tr>\n",
       "  </thead>\n",
       "  <tbody>\n",
       "    <tr>\n",
       "      <th>2021-06-01</th>\n",
       "      <td>MRF</td>\n",
       "      <td>EQ</td>\n",
       "      <td>83641.40</td>\n",
       "      <td>83643.4</td>\n",
       "      <td>84800.00</td>\n",
       "      <td>82811.8</td>\n",
       "      <td>82900.0</td>\n",
       "      <td>83083.45</td>\n",
       "      <td>83667.84</td>\n",
       "      <td>11331</td>\n",
       "      <td>9.480403e+13</td>\n",
       "      <td>7391</td>\n",
       "      <td>2781</td>\n",
       "      <td>0.2454</td>\n",
       "    </tr>\n",
       "    <tr>\n",
       "      <th>2021-06-02</th>\n",
       "      <td>MRF</td>\n",
       "      <td>EQ</td>\n",
       "      <td>83083.45</td>\n",
       "      <td>82800.0</td>\n",
       "      <td>84776.45</td>\n",
       "      <td>82800.0</td>\n",
       "      <td>84499.0</td>\n",
       "      <td>84432.65</td>\n",
       "      <td>83798.67</td>\n",
       "      <td>10170</td>\n",
       "      <td>8.522325e+13</td>\n",
       "      <td>6268</td>\n",
       "      <td>2812</td>\n",
       "      <td>0.2765</td>\n",
       "    </tr>\n",
       "    <tr>\n",
       "      <th>2021-06-03</th>\n",
       "      <td>MRF</td>\n",
       "      <td>EQ</td>\n",
       "      <td>84432.65</td>\n",
       "      <td>84705.0</td>\n",
       "      <td>85086.00</td>\n",
       "      <td>83810.0</td>\n",
       "      <td>84589.0</td>\n",
       "      <td>84471.00</td>\n",
       "      <td>84547.85</td>\n",
       "      <td>9669</td>\n",
       "      <td>8.174932e+13</td>\n",
       "      <td>6425</td>\n",
       "      <td>2609</td>\n",
       "      <td>0.2698</td>\n",
       "    </tr>\n",
       "    <tr>\n",
       "      <th>2021-06-04</th>\n",
       "      <td>MRF</td>\n",
       "      <td>EQ</td>\n",
       "      <td>84471.00</td>\n",
       "      <td>84850.0</td>\n",
       "      <td>85336.00</td>\n",
       "      <td>84240.0</td>\n",
       "      <td>84950.0</td>\n",
       "      <td>84918.70</td>\n",
       "      <td>84821.65</td>\n",
       "      <td>11134</td>\n",
       "      <td>9.444043e+13</td>\n",
       "      <td>6861</td>\n",
       "      <td>3538</td>\n",
       "      <td>0.3178</td>\n",
       "    </tr>\n",
       "    <tr>\n",
       "      <th>2021-06-07</th>\n",
       "      <td>MRF</td>\n",
       "      <td>EQ</td>\n",
       "      <td>84918.70</td>\n",
       "      <td>85598.9</td>\n",
       "      <td>87300.00</td>\n",
       "      <td>82250.0</td>\n",
       "      <td>82310.0</td>\n",
       "      <td>82400.50</td>\n",
       "      <td>84076.57</td>\n",
       "      <td>69851</td>\n",
       "      <td>5.872832e+14</td>\n",
       "      <td>41886</td>\n",
       "      <td>12683</td>\n",
       "      <td>0.1816</td>\n",
       "    </tr>\n",
       "  </tbody>\n",
       "</table>\n",
       "</div>"
      ],
      "text/plain": [
       "           Symbol Series  Prev Close     Open      High      Low     Last  \\\n",
       "Date                                                                        \n",
       "2021-06-01    MRF     EQ    83641.40  83643.4  84800.00  82811.8  82900.0   \n",
       "2021-06-02    MRF     EQ    83083.45  82800.0  84776.45  82800.0  84499.0   \n",
       "2021-06-03    MRF     EQ    84432.65  84705.0  85086.00  83810.0  84589.0   \n",
       "2021-06-04    MRF     EQ    84471.00  84850.0  85336.00  84240.0  84950.0   \n",
       "2021-06-07    MRF     EQ    84918.70  85598.9  87300.00  82250.0  82310.0   \n",
       "\n",
       "               Close      VWAP  Volume      Turnover  Trades  \\\n",
       "Date                                                           \n",
       "2021-06-01  83083.45  83667.84   11331  9.480403e+13    7391   \n",
       "2021-06-02  84432.65  83798.67   10170  8.522325e+13    6268   \n",
       "2021-06-03  84471.00  84547.85    9669  8.174932e+13    6425   \n",
       "2021-06-04  84918.70  84821.65   11134  9.444043e+13    6861   \n",
       "2021-06-07  82400.50  84076.57   69851  5.872832e+14   41886   \n",
       "\n",
       "            Deliverable Volume  %Deliverble  \n",
       "Date                                         \n",
       "2021-06-01                2781       0.2454  \n",
       "2021-06-02                2812       0.2765  \n",
       "2021-06-03                2609       0.2698  \n",
       "2021-06-04                3538       0.3178  \n",
       "2021-06-07               12683       0.1816  "
      ]
     },
     "execution_count": 18,
     "metadata": {},
     "output_type": "execute_result"
    }
   ],
   "source": [
    "data.head()"
   ]
  },
  {
   "cell_type": "markdown",
   "metadata": {},
   "source": [
    "### Saving data to csv for future reference"
   ]
  },
  {
   "cell_type": "code",
   "execution_count": 22,
   "metadata": {},
   "outputs": [],
   "source": [
    "data.to_csv('mrf.csv')"
   ]
  },
  {
   "cell_type": "code",
   "execution_count": 23,
   "metadata": {},
   "outputs": [],
   "source": [
    "df = pd.read_csv('mrf.csv')"
   ]
  },
  {
   "cell_type": "code",
   "execution_count": 7,
   "metadata": {},
   "outputs": [
    {
     "data": {
      "text/html": [
       "<div>\n",
       "<style scoped>\n",
       "    .dataframe tbody tr th:only-of-type {\n",
       "        vertical-align: middle;\n",
       "    }\n",
       "\n",
       "    .dataframe tbody tr th {\n",
       "        vertical-align: top;\n",
       "    }\n",
       "\n",
       "    .dataframe thead th {\n",
       "        text-align: right;\n",
       "    }\n",
       "</style>\n",
       "<table border=\"1\" class=\"dataframe\">\n",
       "  <thead>\n",
       "    <tr style=\"text-align: right;\">\n",
       "      <th></th>\n",
       "      <th>Date</th>\n",
       "      <th>Symbol</th>\n",
       "      <th>Series</th>\n",
       "      <th>Prev Close</th>\n",
       "      <th>Open</th>\n",
       "      <th>High</th>\n",
       "      <th>Low</th>\n",
       "      <th>Last</th>\n",
       "      <th>Close</th>\n",
       "      <th>VWAP</th>\n",
       "      <th>Volume</th>\n",
       "      <th>Turnover</th>\n",
       "      <th>Trades</th>\n",
       "      <th>Deliverable Volume</th>\n",
       "      <th>%Deliverble</th>\n",
       "    </tr>\n",
       "  </thead>\n",
       "  <tbody>\n",
       "    <tr>\n",
       "      <th>15</th>\n",
       "      <td>2021-06-22</td>\n",
       "      <td>MRF</td>\n",
       "      <td>EQ</td>\n",
       "      <td>81777.05</td>\n",
       "      <td>82500.0</td>\n",
       "      <td>82500.0</td>\n",
       "      <td>81500.0</td>\n",
       "      <td>81600.0</td>\n",
       "      <td>81747.25</td>\n",
       "      <td>82032.74</td>\n",
       "      <td>7101</td>\n",
       "      <td>5.825145e+13</td>\n",
       "      <td>3849</td>\n",
       "      <td>2235</td>\n",
       "      <td>0.3147</td>\n",
       "    </tr>\n",
       "  </tbody>\n",
       "</table>\n",
       "</div>"
      ],
      "text/plain": [
       "          Date Symbol Series  Prev Close     Open     High      Low     Last  \\\n",
       "15  2021-06-22    MRF     EQ    81777.05  82500.0  82500.0  81500.0  81600.0   \n",
       "\n",
       "       Close      VWAP  Volume      Turnover  Trades  Deliverable Volume  \\\n",
       "15  81747.25  82032.74    7101  5.825145e+13    3849                2235   \n",
       "\n",
       "    %Deliverble  \n",
       "15       0.3147  "
      ]
     },
     "execution_count": 7,
     "metadata": {},
     "output_type": "execute_result"
    }
   ],
   "source": [
    "actual_price = df.tail(1)\n",
    "actual_price"
   ]
  },
  {
   "cell_type": "code",
   "execution_count": 8,
   "metadata": {},
   "outputs": [],
   "source": [
    "df = df.head(len(df)-1)"
   ]
  },
  {
   "cell_type": "code",
   "execution_count": 9,
   "metadata": {},
   "outputs": [],
   "source": [
    "days = list()\n",
    "high_prices = list()"
   ]
  },
  {
   "cell_type": "code",
   "execution_count": 10,
   "metadata": {},
   "outputs": [],
   "source": [
    "df_days = df.loc[:,'Date']\n",
    "df_high_prices = df.loc[:,'High']"
   ]
  },
  {
   "cell_type": "markdown",
   "metadata": {},
   "source": [
    "### Converting date to number"
   ]
  },
  {
   "cell_type": "code",
   "execution_count": 11,
   "metadata": {},
   "outputs": [],
   "source": [
    "for day in df_days:\n",
    "    days.append([int(day.split('-')[2])])\n",
    "for high_price in df_high_prices:\n",
    "    high_prices.append(float(high_price))\n",
    "    "
   ]
  },
  {
   "cell_type": "code",
   "execution_count": 12,
   "metadata": {},
   "outputs": [
    {
     "data": {
      "text/plain": [
       "[[1],\n",
       " [2],\n",
       " [3],\n",
       " [4],\n",
       " [7],\n",
       " [8],\n",
       " [9],\n",
       " [10],\n",
       " [11],\n",
       " [14],\n",
       " [15],\n",
       " [16],\n",
       " [17],\n",
       " [18],\n",
       " [21]]"
      ]
     },
     "execution_count": 12,
     "metadata": {},
     "output_type": "execute_result"
    }
   ],
   "source": [
    "days"
   ]
  },
  {
   "cell_type": "code",
   "execution_count": 13,
   "metadata": {},
   "outputs": [
    {
     "data": {
      "text/plain": [
       "[84800.0,\n",
       " 84776.45,\n",
       " 85086.0,\n",
       " 85336.0,\n",
       " 87300.0,\n",
       " 82455.15,\n",
       " 81989.0,\n",
       " 82325.95,\n",
       " 82818.45,\n",
       " 83127.95,\n",
       " 83357.75,\n",
       " 83150.0,\n",
       " 83295.85,\n",
       " 83147.4,\n",
       " 82250.0]"
      ]
     },
     "execution_count": 13,
     "metadata": {},
     "output_type": "execute_result"
    }
   ],
   "source": [
    "high_prices"
   ]
  },
  {
   "cell_type": "markdown",
   "metadata": {},
   "source": [
    "### Training RBF model to predict high price on a day"
   ]
  },
  {
   "cell_type": "code",
   "execution_count": 24,
   "metadata": {},
   "outputs": [
    {
     "data": {
      "text/plain": [
       "SVR(C=1000.0, gamma=0.85)"
      ]
     },
     "execution_count": 24,
     "metadata": {},
     "output_type": "execute_result"
    }
   ],
   "source": [
    "rbf_svr = SVR(kernel='rbf', C=1000.0, gamma=0.85)\n",
    "rbf_svr.fit(days,high_prices)"
   ]
  },
  {
   "cell_type": "markdown",
   "metadata": {},
   "source": [
    "### Plotting graph"
   ]
  },
  {
   "cell_type": "code",
   "execution_count": 15,
   "metadata": {},
   "outputs": [
    {
     "data": {
      "image/png": "[encoded data removed]",
      "text/plain": [
       "<Figure size 1152x576 with 1 Axes>"
      ]
     },
     "metadata": {
      "needs_background": "light"
     },
     "output_type": "display_data"
    }
   ],
   "source": [
    "plt.figure(figsize=(16,8))\n",
    "plt.scatter(days,high_prices,color='black',label='Data')\n",
    "plt.plot(days,rbf_svr.predict(days),color='green',label='RBF Model')\n",
    "plt.xlabel('Days')\n",
    "plt.ylabel('High Prices')\n",
    "plt.show()"
   ]
  },
  {
   "cell_type": "markdown",
   "metadata": {},
   "source": [
    "### Predicted Price"
   ]
  },
  {
   "cell_type": "code",
   "execution_count": 27,
   "metadata": {},
   "outputs": [
    {
     "name": "stdout",
     "output_type": "stream",
     "text": [
      "The RBF predicted price: [83399.40121183]\n"
     ]
    }
   ],
   "source": [
    "day = [[23]]\n",
    "print('The RBF predicted price:',rbf_svr.predict(day))"
   ]
  },
  {
   "cell_type": "markdown",
   "metadata": {},
   "source": [
    "### Actual Price"
   ]
  },
  {
   "cell_type": "code",
   "execution_count": 26,
   "metadata": {},
   "outputs": [
    {
     "name": "stdout",
     "output_type": "stream",
     "text": [
      "Actual price 15    82500.0\n",
      "Name: High, dtype: float64\n"
     ]
    }
   ],
   "source": [
    "print('Actual price', actual_price['High'])"
   ]
  }
 ],
 "metadata": {
  "kernelspec": {
   "display_name": "Python 3",
   "language": "python",
   "name": "python3"
  },
  "language_info": {
   "codemirror_mode": {
    "name": "ipython",
    "version": 3
   },
   "file_extension": ".py",
   "mimetype": "text/x-python",
   "name": "python",
   "nbconvert_exporter": "python",
   "pygments_lexer": "ipython3",
   "version": "3.8.3"
  }
 },
 "nbformat": 4,
 "nbformat_minor": 4
}
